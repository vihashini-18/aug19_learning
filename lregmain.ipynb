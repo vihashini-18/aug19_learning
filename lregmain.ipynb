{
 "cells": [
  {
   "cell_type": "code",
   "execution_count": null,
   "id": "f512f475",
   "metadata": {},
   "outputs": [],
   "source": [
    "import pandas as pd\n",
    "\n",
    "df = pd.read_csv(\"D:/python test/l.regression/regression_datasets_large.xlsx - Movie_Revenue.csv\")\n",
    "\n",
    "print(df.columns)\n"
   ]
  },
  {
   "cell_type": "code",
   "execution_count": null,
   "id": "dc32eb68",
   "metadata": {},
   "outputs": [],
   "source": [
    "import pandas as pd\n",
    "from sklearn.linear_model import LinearRegression\n",
    "from sklearn.metrics import r2_score\n",
    "\n",
    "\n",
    "df = pd.read_csv(\"D:/python test/l.regression/regression_datasets_large.xlsx - Movie_Revenue.csv\")\n",
    "\n",
    "\n",
    "X = df[['Marketing_Spend_Cr']]       \n",
    "y = df['Box_Office_Revenue_Cr']     \n",
    "\n",
    "# Fit regression model\n",
    "model = LinearRegression()\n",
    "model.fit(X, y)\n",
    "\n",
    "# Get slope (coef), intercept, R²\n",
    "slope = model.coef_[0]\n",
    "intercept = model.intercept_\n",
    "r2 = r2_score(y, model.predict(X))\n",
    "\n",
    "prediction = model.predict([[10]])[0]\n",
    "\n",
    "\n",
    "print(\"Slope:\", slope)\n",
    "print(\"Intercept:\", intercept)\n",
    "print(\"R² Score:\", r2)\n",
    "print(\"Predicted revenue for 10 crore marketing spend:\", prediction)\n",
    "\n"
   ]
  },
  {
   "cell_type": "code",
   "execution_count": null,
   "id": "c5df1677",
   "metadata": {},
   "outputs": [],
   "source": []
  }
 ],
 "metadata": {
  "kernelspec": {
   "display_name": "Python 3",
   "language": "python",
   "name": "python3"
  },
  "language_info": {
   "codemirror_mode": {
    "name": "ipython",
    "version": 3
   },
   "file_extension": ".py",
   "mimetype": "text/x-python",
   "name": "python",
   "nbconvert_exporter": "python",
   "pygments_lexer": "ipython3",
   "version": "3.13.0"
  }
 },
 "nbformat": 4,
 "nbformat_minor": 5
}
