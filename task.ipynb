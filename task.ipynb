{
 "cells": [
  {
   "cell_type": "code",
   "execution_count": 1,
   "id": "cb8c98b7",
   "metadata": {},
   "outputs": [
    {
     "name": "stdout",
     "output_type": "stream",
     "text": [
      "Coefficients: {'size_m2': np.float64(0.05475608922537633), 'bedrooms': np.float64(10.079739831044295)}\n",
      "Intercept: 4.382282432945509\n",
      "R² Score: 0.9695797476976743\n",
      "Prediction for size=85, bedrooms=3: 39.275769510235385\n"
     ]
    },
    {
     "name": "stderr",
     "output_type": "stream",
     "text": [
      "d:\\python test\\l.regression\\venv\\Lib\\site-packages\\sklearn\\utils\\validation.py:2749: UserWarning: X does not have valid feature names, but LinearRegression was fitted with feature names\n",
      "  warnings.warn(\n"
     ]
    }
   ],
   "source": [
    "import pandas as pd\n",
    "from sklearn.linear_model import LinearRegression\n",
    "from sklearn.metrics import r2_score\n",
    "\n",
    "# Load dataset\n",
    "df = pd.read_csv(\"house_price_multifeature_150.csv\")\n",
    "\n",
    "# Define features (X) and target (y)\n",
    "X = df[['size_m2', 'bedrooms']]\n",
    "y = df['price_k']\n",
    "\n",
    "# Create and fit the model\n",
    "model = LinearRegression()\n",
    "model.fit(X, y)\n",
    "\n",
    "# Get coefficients, intercept, and R²\n",
    "coefficients = dict(zip(X.columns, model.coef_))\n",
    "intercept = model.intercept_\n",
    "r2 = r2_score(y, model.predict(X))\n",
    "\n",
    "# Make prediction for size=85, bedrooms=3\n",
    "prediction = model.predict([[85, 3]])[0]\n",
    "\n",
    "# Print results\n",
    "print(\"Coefficients:\", coefficients)\n",
    "print(\"Intercept:\", intercept)\n",
    "print(\"R² Score:\", r2)\n",
    "print(\"Prediction for size=85, bedrooms=3:\", prediction)\n"
   ]
  }
 ],
 "metadata": {
  "kernelspec": {
   "display_name": "venv",
   "language": "python",
   "name": "python3"
  },
  "language_info": {
   "codemirror_mode": {
    "name": "ipython",
    "version": 3
   },
   "file_extension": ".py",
   "mimetype": "text/x-python",
   "name": "python",
   "nbconvert_exporter": "python",
   "pygments_lexer": "ipython3",
   "version": "3.13.0"
  }
 },
 "nbformat": 4,
 "nbformat_minor": 5
}
